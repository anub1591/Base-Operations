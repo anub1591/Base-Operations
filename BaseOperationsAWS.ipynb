{
 "cells": [
  {
   "cell_type": "code",
   "execution_count": null,
   "metadata": {},
   "outputs": [],
   "source": [
    "# Importing Packages\n",
    "import sys\n",
    "from awsglue.transforms import *\n",
    "from pyspark.sql.types import *\n",
    "from awsglue.utils import getResolvedOptions\n",
    "from pyspark.context import SparkContext\n",
    "from awsglue.context import GlueContext\n",
    "from awsglue.job import Job\n",
    "from awsglue.dynamicframe import DynamicFrame\n",
    "from datetime import date,timedelta"
   ]
  },
  {
   "cell_type": "code",
   "execution_count": null,
   "metadata": {},
   "outputs": [],
   "source": [
    "# Doing Partition by Date\n",
    "dt = date.today()                                                                           # Get date\n",
    "\n",
    "\n",
    "# Loading Runtime Arg\n",
    "args = getResolvedOptions(sys.argv, ['JobScriptName', 'datastoragePath'])\n",
    "\n",
    "\n",
    "# Setting Path for Data Storage\n",
    "datastoragePath=args['datastoragePath']\n"
   ]
  },
  {
   "cell_type": "code",
   "execution_count": null,
   "metadata": {},
   "outputs": [],
   "source": [
    "#Creatung spark context\n",
    "sc = SparkContext()\n",
    "glueContext = GlueContext(sc)\n",
    "spark = glueContext.spark_session\n",
    "job = Job(glueContext)\n",
    "job.init(args['JobScriptName'], args)"
   ]
  },
  {
   "cell_type": "code",
   "execution_count": null,
   "metadata": {},
   "outputs": [],
   "source": [
    "#Loading Data from Datasource\n",
    "datasource = glueContext.create_dynamic_frame.from_catalog(\n",
    "                database = \"sourcedatabase\", \n",
    "                table_name = \"datasourcetable\", \n",
    "                transformation_ctx = \"datasource\")"
   ]
  },
  {
   "cell_type": "code",
   "execution_count": null,
   "metadata": {},
   "outputs": [],
   "source": [
    "# Changing to PySpark DataFrame\n",
    "xf = df.toDF()\n",
    "\n",
    "\n",
    "#Creating a temporary view to make changes \n",
    "xf.createOrReplaceTempView('df')\n",
    "\n",
    "\n",
    "data = spark.sql(\"\n",
    "                    SELECT *, '''+dt+''' FROM df;\n",
    "\n",
    "                    UPDATE gdelt SET EventRootCode=\"PROTESTS\" WHERE EventRootCode = \"14\";\n",
    "                    UPDATE gdelt SET EventRootCode='ASSAULT' WHERE EventRootCode = '18';\n",
    "                    UPDATE gdelt SET EventRootCode='FIGHT' WHERE EventRootCode = '19';\n",
    "                    UPDATE gdelt SET EventRootCode='USE UNCONVENTIONAL MASS VIOLENCE' WHERE EventRootCode = '20';\n",
    "                    UPDATE gdelt SET EventBaseCode=\"Engage in political dissent, not specified below\" WHERE EventBaseCode = '140';\n",
    "                    UPDATE gdelt SET EventBaseCode=\"Demonstrate or rally, not specified below\" WHERE EventBaseCode = '141';\n",
    "                    UPDATE gdelt SET EventBaseCode=\"Demonstrate for leadership change\" WHERE EventBaseCode = '1411';\n",
    "                    UPDATE gdelt SET EventBaseCode=\"Demonstrate for policy change\" WHERE EventBaseCode = '1412';\n",
    "                    UPDATE gdelt SET EventBaseCode=\"Demonstrate for rights\" WHERE EventBaseCode = '1413';\n",
    "                    UPDATE gdelt SET EventBaseCode=\"Demonstrate for change in institutions, regime\" WHERE EventBaseCode = '1414';\n",
    "                    UPDATE gdelt SET EventBaseCode=\"Conduct hunger strike, not specified below\" WHERE EventBaseCode = '142';\n",
    "                    UPDATE gdelt SET EventBaseCode=\"Conduct hunger strike for leadership change\" WHERE EventBaseCode = '1421'; \n",
    "                    UPDATE gdelt SET EventBaseCode=\"Conduct hunger strike for policy change\" WHERE EventBaseCode = '1422'; \n",
    "                    UPDATE gdelt SET EventBaseCode=\"Conduct hunger strike for rights\" WHERE EventBaseCode = '1423'; \n",
    "                    UPDATE gdelt SET EventBaseCode=\"Conduct hunger strike for change in institutions, regime\" WHERE EventBaseCode = '1424';  \n",
    "                    UPDATE gdelt SET EventBaseCode=\"Conduct strike or boycott, not specified below\" WHERE EventBaseCode =  '143';\n",
    "                    UPDATE gdelt SET EventBaseCode=\"Conduct strike or boycott for leadership change\" WHERE EventBaseCode =  '1431'; \n",
    "                    UPDATE gdelt SET EventBaseCode=\"Conduct strike or boycott for policy change\" WHERE EventBaseCode =  '1432'; \n",
    "                    UPDATE gdelt SET EventBaseCode=\"Conduct strike or boycott for rights\" WHERE EventBaseCode =  '1433'; \n",
    "                    UPDATE gdelt SET EventBaseCode=\"Conduct strike or boycott for change in institutions, regime\" WHERE EventBaseCode =  '1434'; \n",
    "                    UPDATE gdelt SET EventBaseCode=\"Obstruct passage, block, not specified below\" WHERE EventBaseCode =  '144';\n",
    "                    UPDATE gdelt SET EventBaseCode=\"Obstruct passage to demand leadership change\" WHERE EventBaseCode =  '1441'; \n",
    "                    UPDATE gdelt SET EventBaseCode=\"Obstruct passage to demand policy change\" WHERE EventBaseCode =  '1442';\n",
    "                    UPDATE gdelt SET EventBaseCode=\"Obstruct passage to demand rights\" WHERE EventBaseCode =  '1443';\n",
    "                    UPDATE gdelt SET EventBaseCode=\"Obstruct passage to demand change in institutions, regime\" WHERE EventBaseCode =  '1444'; \n",
    "                    UPDATE gdelt SET EventBaseCode=\"Protest violently, riot, not specified below\" WHERE EventBaseCode =  '145';\n",
    "                    UPDATE gdelt SET EventBaseCode=\"Engage in violent protest for leadership change\" WHERE EventBaseCode =  '1451'; \n",
    "                    UPDATE gdelt SET EventBaseCode=\"Engage in violent protest for policy change\" WHERE EventBaseCode =  '1452'; \n",
    "                    UPDATE gdelt SET EventBaseCode=\"Engage in violent protest for rights\" WHERE EventBaseCode =  '1453'; \n",
    "                    UPDATE gdelt SET EventBaseCode=\"Engage in violent protest for change in institutions, regime\" WHERE EventBaseCode =  '1454'; \n",
    "                    UPDATE gdelt SET EventBaseCode=\"Use unconventional violence, not specified below\" WHERE EventBaseCode =  '180';\n",
    "                    UPDATE gdelt SET EventBaseCode=\"Abduct, hijack, or take hostage\" WHERE EventBaseCode =  '181';\n",
    "                    UPDATE gdelt SET EventBaseCode=\"Physically assault, not specified below\" WHERE EventBaseCode =  '182';\n",
    "                    UPDATE gdelt SET EventBaseCode=\"Sexually assault\" WHERE EventBaseCode =  '1821';\n",
    "                    UPDATE gdelt SET EventBaseCode=\"Torture\" WHERE EventBaseCode =  '1822';\n",
    "                    UPDATE gdelt SET EventBaseCode=\"Kill by physical assault\" WHERE EventBaseCode =  '1823'; \n",
    "                    UPDATE gdelt SET EventBaseCode=\"Conduct suicide, car, or other non-military bombing, not specified below\" WHERE EventBaseCode =  '183';\n",
    "                    UPDATE gdelt SET EventBaseCode=\"Carry out suicide bombing\" WHERE EventBaseCode =  '1831';\n",
    "                    UPDATE gdelt SET EventBaseCode=\"Carry out vehicular bombing\" WHERE EventBaseCode =  '1832';\n",
    "                    UPDATE gdelt SET EventBaseCode=\"Carry out roadside bombing\" WHERE EventBaseCode =  '1833';\n",
    "                    UPDATE gdelt SET EventBaseCode=\"Carry out location bombing\" WHERE EventBaseCode =  '1834'; \n",
    "                    UPDATE gdelt SET EventBaseCode=\"Use as human shield\" WHERE EventBaseCode =  '184';\n",
    "                    UPDATE gdelt SET EventBaseCode=\"Attempt to assassinate\" WHERE EventBaseCode =  '185';\n",
    "                    UPDATE gdelt SET EventBaseCode=\"Assassinate\" WHERE EventBaseCode =  '186';\n",
    "                    UPDATE gdelt SET EventBaseCode=\"Use conventional military force, not specified below\" WHERE EventBaseCode =  '190';\n",
    "                    UPDATE gdelt SET EventBaseCode=\"Impose blockade, restrict movement\" WHERE EventBaseCode =  '191';\n",
    "                    UPDATE gdelt SET EventBaseCode=\"Occupy territory\" WHERE EventBaseCode = '192' ;\n",
    "                    UPDATE gdelt SET EventBaseCode=\"Fight with small arms and light weapons\" WHERE EventBaseCode =  '193';\n",
    "                    UPDATE gdelt SET EventBaseCode=\"Fight with artillery and tanks\" WHERE EventBaseCode =  '194';\n",
    "                    UPDATE gdelt SET EventBaseCode=\"Employ aerial weapons, not specified below\" WHERE EventBaseCode =  '195';\n",
    "                    UPDATE gdelt SET EventBaseCode=\"Employ precision-guided aerial munitions\" WHERE EventBaseCode =  '1951';\n",
    "                    UPDATE gdelt SET EventBaseCode=\"Employ remotely piloted aerial munitions\" WHERE EventBaseCode =  '1952';\n",
    "                    UPDATE gdelt SET EventBaseCode=\"Violate ceasefire\" WHERE EventBaseCode =  '196';\n",
    "                    UPDATE gdelt SET EventBaseCode=\"Use unconventional mass violence, not specified below\" WHERE EventBaseCode =  '200';\n",
    "                    UPDATE gdelt SET EventBaseCode=\"Engage in mass expulsion\" WHERE EventBaseCode =  '201';\n",
    "                    UPDATE gdelt SET EventBaseCode=\"Engage in mass killings\" WHERE EventBaseCode =  '202';\n",
    "                    UPDATE gdelt SET EventBaseCode=\"Engage in ethnic cleansing\" WHERE EventBaseCode =  '203';\n",
    "                    UPDATE gdelt SET EventBaseCode=\"Use weapons of mass destruction, not specified below\" WHERE EventBaseCode = '204';\n",
    "                    UPDATE gdelt SET EventBaseCode=\"Use chemical, biological, or radiological weapons\" WHERE EventBaseCode =  '2041'; \n",
    "                    UPDATE gdelt SET EventBaseCode=\"Detonate nuclear weapons\" WHERE EventBaseCode = '2042'\n",
    "                                                \")"
   ]
  },
  {
   "cell_type": "code",
   "execution_count": null,
   "metadata": {},
   "outputs": [],
   "source": [
    "# Creating a Dynamic Frame\n",
    "dataframe_DN = DynamicFrame.fromDF(data,glueContext,\"dataframe_DN\")"
   ]
  },
  {
   "cell_type": "code",
   "execution_count": null,
   "metadata": {},
   "outputs": [],
   "source": [
    "#Creating Data Dump\n",
    "sink_DN = glueContext.getSink(connection_type='s3',\n",
    "                            path=datastoragePath,\n",
    "                            enableUpdateCatalog= True,\n",
    "                            updateBehavior=\"UPDATE_IN_DATABASE\",\n",
    "                            partitionKeys=[\"dt\"])"
   ]
  },
  {
   "cell_type": "code",
   "execution_count": null,
   "metadata": {},
   "outputs": [],
   "source": [
    "#Setting file format as Parquet\n",
    "sink_DN.setFormat(\"glueparquet\")"
   ]
  },
  {
   "cell_type": "code",
   "execution_count": null,
   "metadata": {},
   "outputs": [],
   "source": [
    "#Establishing Target Catalog\n",
    "sink_DN.setCatalogInfo(catalogDatabase=\"targetDatabase\",\n",
    "                        catalogTableName=\"targettable Name\")"
   ]
  },
  {
   "cell_type": "code",
   "execution_count": null,
   "metadata": {},
   "outputs": [],
   "source": [
    "# Dumping Data\n",
    "sink_DN.writeFrame(dataframe_DN)\n",
    "\n",
    "\n",
    "job.commit()"
   ]
  }
 ],
 "metadata": {
  "kernelspec": {
   "display_name": "Python 3 (ipykernel)",
   "language": "python",
   "name": "python3"
  },
  "language_info": {
   "codemirror_mode": {
    "name": "ipython",
    "version": 3
   },
   "file_extension": ".py",
   "mimetype": "text/x-python",
   "name": "python",
   "nbconvert_exporter": "python",
   "pygments_lexer": "ipython3",
   "version": "3.9.12"
  },
  "vscode": {
   "interpreter": {
    "hash": "aee8b7b246df8f9039afb4144a1f6fd8d2ca17a180786b69acc140d282b71a49"
   }
  }
 },
 "nbformat": 4,
 "nbformat_minor": 2
}
